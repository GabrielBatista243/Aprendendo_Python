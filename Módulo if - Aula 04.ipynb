{
 "cells": [
  {
   "cell_type": "markdown",
   "metadata": {},
   "source": [
    "# Comparadores"
   ]
  },
  {
   "cell_type": "raw",
   "metadata": {},
   "source": [
    "==    igual\n",
    "!=    diferente\n",
    ">     maior que (>= maior ou igual)\n",
    "<     menor que (<= menor ou igual)\n",
    "in    texto existe dentro de outro texto \n",
    "not   verifica o contrário da comparação\n",
    "\n",
    "Obs: Se em alguma condição você não quiser fazer nada, você pode simplesmente escrever:\n",
    "pass"
   ]
  },
  {
   "cell_type": "code",
   "execution_count": 2,
   "metadata": {},
   "outputs": [
    {
     "name": "stdout",
     "output_type": "stream",
     "text": [
      "Programa 1\n",
      "Os faturamentos são iguais\n"
     ]
    }
   ],
   "source": [
    "faturamento_loja_1 = 2500\n",
    "faturamento_loja_2 = 2500\n",
    "email = \"gabrielbatista77964@gmail.com\"\n",
    "\n",
    "print('Programa 1')\n",
    "if faturamento_loja_1 == faturamento_loja_2:\n",
    "    print('Os faturamentos são iguais')\n",
    "else:\n",
    "    print('Os faturamentos são diferentes')\n"
   ]
  },
  {
   "cell_type": "code",
   "execution_count": 8,
   "metadata": {},
   "outputs": [
    {
     "name": "stdout",
     "output_type": "stream",
     "text": [
      "Programa 2\n",
      "Esse não é o email do Gabriel\n"
     ]
    }
   ],
   "source": [
    "print('Programa 2')\n",
    "if email != 'lira@gmail.com':\n",
    "    print('Esse não é o email do Gabriel')\n",
    "else:\n",
    "    print('Email errado')"
   ]
  },
  {
   "cell_type": "code",
   "execution_count": 10,
   "metadata": {},
   "outputs": [
    {
     "name": "stdout",
     "output_type": "stream",
     "text": [
      "Programa 3\n",
      "Email Inválido\n"
     ]
    }
   ],
   "source": [
    "print('Programa 3')\n",
    "email_usuario = input('Insira seu e-mail:')\n",
    "if not '@' in email_usuario:\n",
    "    print('Email Inválido')\n",
    "else:\n",
    "    pass"
   ]
  },
  {
   "cell_type": "code",
   "execution_count": 32,
   "metadata": {},
   "outputs": [
    {
     "name": "stdout",
     "output_type": "stream",
     "text": [
      "programa 4\n",
      "Loja 3: Meta batida\n",
      "Loja 4: Meta batida\n"
     ]
    }
   ],
   "source": [
    "meta_loja_3 = 100.00\n",
    "meta_loja_4 = 80.00\n",
    "\n",
    "faturamento_loja_3 = float(input('Insira o faturamento da loja 3:'))\n",
    "faturamento_loja_4 = float(input('Insira o faturamento da loja 4:'))\n",
    "email = 'gabrielbatista77964@gmail.com'\n",
    "\n",
    "print('programa 4')\n",
    "if meta_loja_3 <= faturamento_loja_3:\n",
    "    print('Loja 3: Meta batida')\n",
    "else:\n",
    "    print('Loja 3: Não bateu a meta')\n",
    "\n",
    "if meta_loja_4 <= faturamento_loja_4:\n",
    "    print('Loja 4: Meta batida')\n",
    "else:\n",
    "    print('Loja 4: Não bateu a meta')"
   ]
  },
  {
   "cell_type": "code",
   "execution_count": 35,
   "metadata": {},
   "outputs": [
    {
     "name": "stdout",
     "output_type": "stream",
     "text": [
      "programa 5\n",
      "Email Certo\n"
     ]
    }
   ],
   "source": [
    "print('programa 5')\n",
    "if email != 'gabrielbatista77964@gmail.com':\n",
    "    print('Esse não é o email do gabriel')\n",
    "else:\n",
    "    print('Email Certo')"
   ]
  },
  {
   "cell_type": "code",
   "execution_count": 36,
   "metadata": {},
   "outputs": [
    {
     "name": "stdout",
     "output_type": "stream",
     "text": [
      "programa 5\n"
     ]
    }
   ],
   "source": [
    "print('programa 5')\n",
    "email_usuario = input('Insiral seu e-mail:')\n",
    "if not '@' in email_usuario:\n",
    "    print('Email Inválido')\n",
    "else:\n",
    "    pass"
   ]
  }
 ],
 "metadata": {
  "kernelspec": {
   "display_name": "Python 3",
   "language": "python",
   "name": "python3"
  },
  "language_info": {
   "codemirror_mode": {
    "name": "ipython",
    "version": 3
   },
   "file_extension": ".py",
   "mimetype": "text/x-python",
   "name": "python",
   "nbconvert_exporter": "python",
   "pygments_lexer": "ipython3",
   "version": "3.11.7"
  }
 },
 "nbformat": 4,
 "nbformat_minor": 4
}
